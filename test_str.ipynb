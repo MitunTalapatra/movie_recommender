{
 "cells": [
  {
   "cell_type": "code",
   "execution_count": 8,
   "id": "dce5ee5a-07f6-4718-a319-180c6edd58c0",
   "metadata": {},
   "outputs": [
    {
     "name": "stdout",
     "output_type": "stream",
     "text": [
      "zsh:1: no matches found: pydantic[dotenv]\n"
     ]
    }
   ],
   "source": []
  },
  {
   "cell_type": "code",
   "execution_count": 10,
   "id": "7e22b8e0-e0c0-427d-a543-999493b7fc1e",
   "metadata": {},
   "outputs": [
    {
     "ename": "AttributeError",
     "evalue": "partially initialized module 'streamlit' has no attribute 'title' (most likely due to a circular import)",
     "output_type": "error",
     "traceback": [
      "\u001b[0;31m---------------------------------------------------------------------------\u001b[0m",
      "\u001b[0;31mAttributeError\u001b[0m                            Traceback (most recent call last)",
      "Input \u001b[0;32mIn [10]\u001b[0m, in \u001b[0;36m<cell line: 12>\u001b[0;34m()\u001b[0m\n\u001b[1;32m     10\u001b[0m warnings\u001b[38;5;241m.\u001b[39mfilterwarnings(\u001b[38;5;124m\"\u001b[39m\u001b[38;5;124mignore\u001b[39m\u001b[38;5;124m\"\u001b[39m, category\u001b[38;5;241m=\u001b[39m\u001b[38;5;167;01mFutureWarning\u001b[39;00m)\n\u001b[1;32m     11\u001b[0m \u001b[38;5;28;01mimport\u001b[39;00m \u001b[38;5;21;01mmatplotlib\u001b[39;00m\u001b[38;5;21;01m.\u001b[39;00m\u001b[38;5;21;01mpyplot\u001b[39;00m \u001b[38;5;28;01mas\u001b[39;00m \u001b[38;5;21;01mplt\u001b[39;00m\n\u001b[0;32m---> 12\u001b[0m \u001b[38;5;28;01mimport\u001b[39;00m \u001b[38;5;21;01mstreamlit\u001b[39;00m \u001b[38;5;28;01mas\u001b[39;00m \u001b[38;5;21;01mst\u001b[39;00m \n\u001b[1;32m     13\u001b[0m \u001b[38;5;28;01mimport\u001b[39;00m \u001b[38;5;21;01mseaborn\u001b[39;00m \u001b[38;5;28;01mas\u001b[39;00m \u001b[38;5;21;01msns\u001b[39;00m\n\u001b[1;32m     14\u001b[0m \u001b[38;5;28;01mimport\u001b[39;00m \u001b[38;5;21;01mplotly\u001b[39;00m\u001b[38;5;21;01m.\u001b[39;00m\u001b[38;5;21;01mexpress\u001b[39;00m \u001b[38;5;28;01mas\u001b[39;00m \u001b[38;5;21;01mpx\u001b[39;00m\n",
      "File \u001b[0;32m~/movie_recommender/streamlit.py:24\u001b[0m, in \u001b[0;36m<module>\u001b[0;34m\u001b[0m\n\u001b[1;32m     18\u001b[0m dictionary \u001b[38;5;241m=\u001b[39m pd\u001b[38;5;241m.\u001b[39mread_csv(\u001b[38;5;124m'\u001b[39m\u001b[38;5;124mdata/cleaned_movies_dictionary.csv\u001b[39m\u001b[38;5;124m'\u001b[39m, index_col\u001b[38;5;241m=\u001b[39m[\u001b[38;5;241m0\u001b[39m])\n\u001b[1;32m     20\u001b[0m \u001b[38;5;66;03m#choice = st.sidebar.radio('Hope this was intersting',['yes','no'])\u001b[39;00m\n\u001b[1;32m     21\u001b[0m \u001b[38;5;66;03m#if choice == 'yes':\u001b[39;00m\n\u001b[1;32m     22\u001b[0m     \n\u001b[1;32m     23\u001b[0m \u001b[38;5;66;03m# Write a title\u001b[39;00m\n\u001b[0;32m---> 24\u001b[0m \u001b[43mst\u001b[49m\u001b[38;5;241;43m.\u001b[39;49m\u001b[43mtitle\u001b[49m(\u001b[38;5;124m'\u001b[39m\u001b[38;5;124mMovie Recommender\u001b[39m\u001b[38;5;124m'\u001b[39m)\n\u001b[1;32m     25\u001b[0m \u001b[38;5;66;03m# Write data taken from https://allisonhorst.github.io/palmerpenguins/\u001b[39;00m\n\u001b[1;32m     26\u001b[0m st\u001b[38;5;241m.\u001b[39mwrite(\u001b[38;5;124m'\u001b[39m\u001b[38;5;124m**My** **app** for finding a good movie to watch [dataset](https://grouplens.org/datasets/movielens/)\u001b[39m\u001b[38;5;124m'\u001b[39m)\n",
      "\u001b[0;31mAttributeError\u001b[0m: partially initialized module 'streamlit' has no attribute 'title' (most likely due to a circular import)"
     ]
    }
   ],
   "source": [
    "#import std libraries\n",
    "import pandas as pd\n",
    "import numpy as np\n",
    "from utils import lookup_movieId, match_movie_title, get_popularity, unseen_movies, get_cluster\n",
    "from sklearn.impute import SimpleImputer\n",
    "from sklearn.decomposition import NMF\n",
    "from recommender import recommend_random, recommend_most_popular, recommend_from_same_cluster, recommend_with_NMF\n",
    "\n",
    "import warnings\n",
    "warnings.filterwarnings(\"ignore\", category=FutureWarning)\n",
    "import matplotlib.pyplot as plt\n",
    "import streamlit as st \n",
    "import seaborn as sns\n",
    "import plotly.express as px\n",
    "\n",
    "movies = pd.read_csv('data/movies_clusters_ratings.csv', index_col='movieid')  \n",
    "user_mat = pd.read_csv('data/cleaned_user_item_matrix.csv', index_col=[0])\n",
    "dictionary = pd.read_csv('data/cleaned_movies_dictionary.csv', index_col=[0])"
   ]
  },
  {
   "cell_type": "code",
   "execution_count": 9,
   "id": "14b73e29-5c1d-4722-9b1a-9eb55edac234",
   "metadata": {},
   "outputs": [
    {
     "ename": "NameError",
     "evalue": "name 'st' is not defined",
     "output_type": "error",
     "traceback": [
      "\u001b[0;31m---------------------------------------------------------------------------\u001b[0m",
      "\u001b[0;31mNameError\u001b[0m                                 Traceback (most recent call last)",
      "Input \u001b[0;32mIn [9]\u001b[0m, in \u001b[0;36m<cell line: 5>\u001b[0;34m()\u001b[0m\n\u001b[1;32m      1\u001b[0m \u001b[38;5;66;03m#choice = st.sidebar.radio('Hope this was intersting',['yes','no'])\u001b[39;00m\n\u001b[1;32m      2\u001b[0m \u001b[38;5;66;03m#if choice == 'yes':\u001b[39;00m\n\u001b[1;32m      3\u001b[0m     \n\u001b[1;32m      4\u001b[0m \u001b[38;5;66;03m# Write a title\u001b[39;00m\n\u001b[0;32m----> 5\u001b[0m \u001b[43mst\u001b[49m\u001b[38;5;241m.\u001b[39mtitle(\u001b[38;5;124m'\u001b[39m\u001b[38;5;124mMovie Recommender Platform\u001b[39m\u001b[38;5;124m'\u001b[39m)\n\u001b[1;32m      6\u001b[0m \u001b[38;5;66;03m# Write data taken from https://allisonhorst.github.io/palmerpenguins/\u001b[39;00m\n\u001b[1;32m      7\u001b[0m st\u001b[38;5;241m.\u001b[39mwrite(\u001b[38;5;124m'\u001b[39m\u001b[38;5;124m**My** **app** for finding a good movie to watch [dataset](https://grouplens.org/datasets/movielens/)\u001b[39m\u001b[38;5;124m'\u001b[39m)\n",
      "\u001b[0;31mNameError\u001b[0m: name 'st' is not defined"
     ]
    }
   ],
   "source": [
    "#choice = st.sidebar.radio('Hope this was intersting',['yes','no'])\n",
    "#if choice == 'yes':\n",
    "    \n",
    "# Write a title\n",
    "st.title('Movie Recommender Platform')\n",
    "# Write data taken from https://allisonhorst.github.io/palmerpenguins/\n",
    "st.write('**My** **app** for finding a good movie to watch [dataset](https://grouplens.org/datasets/movielens/)')\n",
    "# Put image https://raw.githubusercontent.com/allisonhorst/palmerpenguins/master/man/figures/lter_penguins.png\n",
    "st.image('https://images.app.goo.gl/Qt3ziMxz2GxzvmbB9')\n",
    "st.write('Please enter 3 movies you have watched and rate them from 0-5')\n",
    "\n",
    "input_1 = st.text_input('Movie 1', 'A Beautiful Mind'); rating_1= st.slider('Rate movie 1', 0.0, 5.0, (0.0, 5.0))\n",
    "\n",
    "input_2 = st.text_input('Movie 2', 'Gladiator'); rating_2= st.slider('Rate movie 2', 0.0, 5.0, (0.0, 5.0))\n",
    "\n",
    "input_3 = st.text_input('Movie 3', 'La La Land'); rating_3= st.slider('Rate movie 3', 0.0, 5.0, (0.0, 5.0))\n",
    "\n",
    "user_rating = {\n",
    "    input_1: rating_1,\n",
    "    input_2: rating_2,\n",
    "    input_3: rating_3\n",
    "}"
   ]
  },
  {
   "cell_type": "code",
   "execution_count": null,
   "id": "80cdc748-6abd-49d6-b70c-2111ebdd4f18",
   "metadata": {},
   "outputs": [],
   "source": [
    "# Write heading for Random Recommendation\n",
    "st.header('Random Selection')\n",
    "st.write('Movies randomly selected for you...', recommend_random(movies, user_rating, k=5))\n",
    "\n",
    "# Write heading for Popular Recommendation\n",
    "st.header('Most popular')\n",
    "st.write('Most popular movies for you...', recommend_most_popular(user_rating, movies, k=5))\n",
    "\n",
    "# Write heading for Similar cluster Recommendation\n",
    "st.header('Similarity 1')\n",
    "st.write('Similar movies based on your experience...', recommend_from_same_cluster(user_rating, movies, k=3))\n",
    "\n",
    "# Write heading for Similar cluster Recommendation\n",
    "st.header('Similarity 1')\n",
    "st.write('Similar movies based on other users experience...', recommend_with_NMF(user_mat, user_rating, dictionary, k=5))"
   ]
  },
  {
   "cell_type": "code",
   "execution_count": null,
   "id": "a78eba43-7b18-453b-aca3-c702e3d9f858",
   "metadata": {},
   "outputs": [],
   "source": []
  }
 ],
 "metadata": {
  "kernelspec": {
   "display_name": "Python 3 (ipykernel)",
   "language": "python",
   "name": "python3"
  },
  "language_info": {
   "codemirror_mode": {
    "name": "ipython",
    "version": 3
   },
   "file_extension": ".py",
   "mimetype": "text/x-python",
   "name": "python",
   "nbconvert_exporter": "python",
   "pygments_lexer": "ipython3",
   "version": "3.9.10"
  }
 },
 "nbformat": 4,
 "nbformat_minor": 5
}
